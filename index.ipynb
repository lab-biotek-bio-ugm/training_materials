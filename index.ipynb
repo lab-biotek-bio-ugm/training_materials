{
 "cells": [
  {
   "cell_type": "markdown",
   "metadata": {},
   "source": [
    "<img src=\"images/Logo.png\" style=\"width: 150px; float: right;\">\n",
    "\n",
    "## Bioengineering Research Group\n",
    "# Basic Bioinformatics Orientation\n",
    "Selamat datang di [Bioengineering Research Group](https://matinnuhamunada.staff.ugm.ac.id), Laboratorium Bioteknologi, Fakultas Biologi, Universitas Gadjah Mada. Repository ini berisi materi pengantar bioinformatika bagi anggota lab sebagai dasar untuk mengerjakan project."
   ]
  },
  {
   "cell_type": "markdown",
   "metadata": {},
   "source": [
    "## Daftar Topik\n",
    "<!-- TOC -->\n",
    "\n",
    "- [Pengantar](#Pengantar)\n",
    "- [Software yang dibutuhkan](#Software-yang-dibutuhkan)\n",
    "    - [Prerequisites](#prerequisites)\n",
    "\n",
    "<!-- /TOC -->"
   ]
  },
  {
   "cell_type": "markdown",
   "metadata": {},
   "source": [
    "### Pengantar"
   ]
  },
  {
   "cell_type": "markdown",
   "metadata": {},
   "source": [
    "#### Software yang dibutuhkan\n",
    "* [00. Git dan Sourcetree](https://www.sourcetreeapp.com/)\n",
    "* [02. Anaconda (`Python3`)](https://www.anaconda.com/distribution/)\n",
    "* [03. MEGAN6](http://ab.inf.uni-tuebingen.de/software/megan6/)\n",
    "* [04. Jupyter & other libraries](00-software/00-jupyter.ipynb)"
   ]
  },
  {
   "cell_type": "markdown",
   "metadata": {},
   "source": [
    "#### Basic Skills\n",
    "* [00. Linux & Command Line]()\n",
    "* [02. Jupyter Notebooks]()\n",
    "* [03. Learn Basic Python for Data Science](https://cognitiveclass.ai/)"
   ]
  },
  {
   "cell_type": "markdown",
   "metadata": {},
   "source": [
    "#### Mining Public Databases\n",
    "* [00. Mining NCBI dengan Biopython](02-mining/NCBI-Biopython.ipynb)"
   ]
  },
  {
   "cell_type": "code",
   "execution_count": null,
   "metadata": {},
   "outputs": [],
   "source": []
  }
 ],
 "metadata": {
  "kernelspec": {
   "display_name": "Python 3",
   "language": "python",
   "name": "python3"
  },
  "language_info": {
   "codemirror_mode": {
    "name": "ipython",
    "version": 3
   },
   "file_extension": ".py",
   "mimetype": "text/x-python",
   "name": "python",
   "nbconvert_exporter": "python",
   "pygments_lexer": "ipython3",
   "version": "3.7.3"
  }
 },
 "nbformat": 4,
 "nbformat_minor": 4
}
