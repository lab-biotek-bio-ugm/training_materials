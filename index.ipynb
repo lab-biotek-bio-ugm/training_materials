{
 "cells": [
  {
   "cell_type": "markdown",
   "metadata": {},
   "source": [
    "<img src=\"images/Logo.png\" style=\"width: 150px; float: right;\">\n",
    "\n",
    "## Bioengineering Research Group\n",
    "# Basic Bioinformatics Orientation\n",
    "\n",
    "Repository ini berisi materi pengantar bioinformatika bagi anggota [Bioengineering Research Group](https://matinnuhamunada.staff.ugm.ac.id), Laboratorium Bioteknologi, Fakultas Biologi, Universitas Gadjah Mada."
   ]
  },
  {
   "cell_type": "markdown",
   "metadata": {},
   "source": [
    "## Course Sections"
   ]
  },
  {
   "cell_type": "markdown",
   "metadata": {},
   "source": [
    "### Introducing Software Platforms\n",
    "#### Lessons\n",
    "* [00. The command line and Linux (`terminal`)](00-platform/00-command-line.ipynb) - <font color='green'><b>introductory</b></font>\n",
    "* [01. Jupyter Notebooks (`notebook`)](00-platform/01-jupyter.ipynb) - <font color='green'><b>introductory</b></font>\n",
    "* [02. Python (`notebook`)](00-platform/02-python.ipynb) - <font color='green'><b>introductory</b></font>\n",
    "#### Learning Outcomes"
   ]
  },
  {
   "cell_type": "code",
   "execution_count": null,
   "metadata": {},
   "outputs": [],
   "source": []
  }
 ],
 "metadata": {
  "kernelspec": {
   "display_name": "Python 3",
   "language": "python",
   "name": "python3"
  },
  "language_info": {
   "codemirror_mode": {
    "name": "ipython",
    "version": 3
   },
   "file_extension": ".py",
   "mimetype": "text/x-python",
   "name": "python",
   "nbconvert_exporter": "python",
   "pygments_lexer": "ipython3",
   "version": "3.7.3"
  }
 },
 "nbformat": 4,
 "nbformat_minor": 4
}
